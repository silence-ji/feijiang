{
 "cells": [
  {
   "cell_type": "markdown",
   "metadata": {
    "collapsed": false
   },
   "source": [
    "#一、项目背景介绍\n",
    "\n",
    "在作业准备初期，想要接触一下跟踪或者分割算法的训练。\n",
    "最终选择了分割方面的内容，以及车道线分割的内容。\n",
    "车道线包括多种类型，并且车道线的分割是目前热门的智能驾驶的一部分，我们在检测并分割出不同类型的车道线后，才能完成车辆的循线驾驶工作。"
   ]
  },
  {
   "cell_type": "markdown",
   "metadata": {
    "collapsed": false
   },
   "source": [
    "#二、数据介绍\n",
    "\n",
    "在数据集方面使用了飞桨的公开数据集[VIL100](http://aistudio.baidu.com/aistudio/datasetdetail/115234)"
   ]
  },
  {
   "cell_type": "markdown",
   "metadata": {
    "collapsed": false
   },
   "source": [
    "三、模型介绍\n",
    "在本次作业中，主要使用paddledetection的paddleseg已有框架中的deeplabv3模型进行了训练。\n",
    "首次使用，因此在api安装及调用的过程中遇到了一些问题。比如，requirements安装过程中，遇到了包的版本不匹配徐重新安装；某个包需要user的授权才可安装的问题等；更加低级的问题是，在文件链接中加入了地址，而没有调整运行目录，导致报错。"
   ]
  },
  {
   "cell_type": "code",
   "execution_count": null,
   "metadata": {
    "collapsed": false
   },
   "outputs": [],
   "source": [
    "#数据集加载\r\n",
    "!unzip -q /home/aistudio/data/data115234/VIL100.zip \r\n",
    "!unzip -q /home/aistudio/data/data80207/PaddleSeg.zip\r\n"
   ]
  },
  {
   "cell_type": "code",
   "execution_count": null,
   "metadata": {
    "collapsed": false
   },
   "outputs": [],
   "source": [
    "#数据可视化准备\r\n",
    "import cv2\r\n",
    "import random\r\n",
    "import numpy as np\r\n",
    "import matplotlib.pyplot as plt\r\n",
    "%matplotlib inline"
   ]
  },
  {
   "cell_type": "code",
   "execution_count": null,
   "metadata": {
    "collapsed": false
   },
   "outputs": [],
   "source": [
    "#根目录设定\r\n",
    "ROOT = \"VIL100\"\r\n",
    "#读取训练集、测试集，并展示其数量\r\n",
    "#with open(\"路径\", \"mode\") as 文件名:  mode:'r' read,'w'write, 'a'追加\r\n",
    "with open(\"VIL100/data/train.txt\", \"r\") as TRAIN:   \r\n",
    "    trainData = TRAIN.readlines()  #readlines读取整个文件，返回列表；read读取整个文件，返回字符串\r\n",
    "    print('训练集数据量: {}'.format(len(trainData)))\r\n",
    "\r\n",
    "with open(\"VIL100/data/test.txt\", \"r\") as TEST: \r\n",
    "    testDatas = TEST.readlines()\r\n",
    "    print('测试集数据量: {}'.format(len(testDatas)))"
   ]
  },
  {
   "cell_type": "code",
   "execution_count": null,
   "metadata": {
    "collapsed": false
   },
   "outputs": [],
   "source": [
    "#安装paddleseg，先安装补充包，再安装PaddleSeg\r\n",
    "!pip install -r requirements.txt\r\n",
    "!python setup.py install"
   ]
  },
  {
   "cell_type": "markdown",
   "metadata": {
    "collapsed": false
   },
   "source": [
    "数据集列表准备"
   ]
  },
  {
   "cell_type": "code",
   "execution_count": null,
   "metadata": {
    "collapsed": false
   },
   "outputs": [],
   "source": [
    "from paddle.io import Dataset   #加载数据处理包\r\n",
    "\r\n",
    "#训练/测试模式，读取数据\r\n",
    "class VIL(Dataset):\r\n",
    "    def __init__(self, mode='train'):\r\n",
    "        super(VIL, self).__init__() \r\n",
    "        self.train_data_paths = self.load_train_data()# 获取训练集\r\n",
    "        self.test_data_paths = self.load_test_data()  # 获取训练集\r\n",
    "        self.mode = mode\r\n",
    "        self.root = \"VIL100\"\r\n",
    "\r\n",
    "    def __getitem__(self, idx):    #def __getitem__起到的作用是展示取到的数据\r\n",
    "        if self.mode == 'test':\r\n",
    "            data_paths = self.test_data_paths\r\n",
    "        else:\r\n",
    "            data_paths = self.train_data_paths\r\n",
    "\r\n",
    "        image = cv2.imread(self.root + data_paths[idx].split(\" \")[0])  #图片文件名称\r\n",
    "        image = (image / 255. * 2. - 1.).astype('float32')   #数据类型强制转换为浮点型\r\n",
    "        image = np.transpose(image, (2, 0, 1))\r\n",
    "        label = cv2.imread(self.root + data_paths[idx].split(\" \")[1])   #标签文件名称\r\n",
    "        label = label.astype('float32')   #数据类型转换\r\n",
    "        label = np.transpose(label, (2, 0, 1))\r\n",
    "\r\n",
    "        return image, label\r\n",
    "\r\n",
    "    def __len__(self):\r\n",
    "        if self.mode == 'test':\r\n",
    "            return len(self.test_data_paths)\r\n",
    "        else:\r\n",
    "            return len(self.train_data_paths)\r\n",
    "\r\n",
    "    @staticmethod\r\n",
    "    def load_train_data():\r\n",
    "        data_path = 'VIL100/data/train.txt'\r\n",
    "        with open(data_path, \"r\") as trainList: \r\n",
    "            return trainList.readlines()\r\n",
    "\r\n",
    "    @staticmethod\r\n",
    "    def load_test_data():\r\n",
    "        data_path = 'VIL100/data/test.txt'\r\n",
    "        with open(data_path, \"r\") as testList: \r\n",
    "            return testList.readlines()\r\n",
    "\r\n",
    "traindataset = VIL('train')\r\n",
    "testdataset  = VIL('test')\r\n",
    "\r\n",
    "!python tools/create_dataset_list.py\r\n"
   ]
  },
  {
   "cell_type": "markdown",
   "metadata": {
    "collapsed": false
   },
   "source": [
    "四、模型训练"
   ]
  },
  {
   "cell_type": "code",
   "execution_count": null,
   "metadata": {
    "collapsed": false
   },
   "outputs": [],
   "source": [
    "from paddleseg.models import DeepLabV3\r\n",
    "model = DeepLabV3(num_classes=2,\r\n",
    "                 lambd=0.25,\r\n",
    "                 align_corners=False,\r\n",
    "                 pretrained=None)"
   ]
  },
  {
   "cell_type": "code",
   "execution_count": null,
   "metadata": {
    "collapsed": false
   },
   "outputs": [],
   "source": [
    "!python train.py --config configs/deeplabv3/deeplabv3_resnet50_os8_cityscapes_1024x512_80k.yml"
   ]
  },
  {
   "cell_type": "code",
   "execution_count": null,
   "metadata": {
    "collapsed": false
   },
   "outputs": [],
   "source": [
    "#训练过程可视化\r\n",
    "import os\r\n",
    "\r\n",
    "results_save_path = 'data/results'   #结果保存位置\r\n",
    "os.makedirs(results_save_path, exist_ok=True)  # 保存每个epoch的测试结果\r\n",
    "\r\n",
    "weights_save_path = 'data/weights'   #权重保存位置\r\n",
    "os.makedirs(weights_save_path, exist_ok=True)  # 保存模型\r\n",
    "\r\n",
    "for epoch in range(EPOCHS):\r\n",
    "    if (epoch+1) % 1 == 0:\r\n",
    "        paddle.save(generator.state_dict(), os.path.join(weights_save_path, 'epoch'+str(epoch+1).zfill(3)+'.pdparams'))"
   ]
  },
  {
   "cell_type": "markdown",
   "metadata": {
    "collapsed": false
   },
   "source": [
    "五、模型评估"
   ]
  },
  {
   "cell_type": "code",
   "execution_count": null,
   "metadata": {
    "collapsed": false
   },
   "outputs": [],
   "source": [
    "!python val.py --config configs/deeplabv3/deeplabv3_resnet50_os8_cityscapes_1024x512_80k.yml"
   ]
  },
  {
   "cell_type": "markdown",
   "metadata": {
    "collapsed": false
   },
   "source": [
    "六、总结与升华\n",
    "在本次学习中，接触到了许多新鲜的内容，开阔了视野。最重要的是提升了自己的代码能力，虽然还不能够完成自己组网，但对于训练中使用到的代码以及python包有了更多的理解，在后续还需要继续学习命令。"
   ]
  },
  {
   "cell_type": "markdown",
   "metadata": {
    "collapsed": false
   },
   "source": [
    "七、个人总结\n",
    "目前在接触学习机器视觉、深度学习的阶段，小白一枚，请见谅。\n",
    "GitHub及gitee链接待补，还未申请成功。GitHub项目显示未加入任何团体不能将导出的文件增加，正在搜索解决，线提交上，不好意思。\n"
   ]
  }
 ],
 "metadata": {
  "kernelspec": {
   "display_name": "Python 3",
   "language": "python",
   "name": "py35-paddle1.2.0"
  },
  "language_info": {
   "codemirror_mode": {
    "name": "ipython",
    "version": 3
   },
   "file_extension": ".py",
   "mimetype": "text/x-python",
   "name": "python",
   "nbconvert_exporter": "python",
   "pygments_lexer": "ipython3",
   "version": "3.7.4"
  }
 },
 "nbformat": 4,
 "nbformat_minor": 1
}
